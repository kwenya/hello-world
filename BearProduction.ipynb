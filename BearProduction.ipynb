{
  "nbformat": 4,
  "nbformat_minor": 0,
  "metadata": {
    "colab": {
      "provenance": [],
      "toc_visible": true,
      "mount_file_id": "1dkWl6uYK3HVNLqpBxKh3X8dIIuIdmJ3G",
      "authorship_tag": "ABX9TyPvEj962oEwf0dkXISm8lP1",
      "include_colab_link": true
    },
    "kernelspec": {
      "name": "python3",
      "display_name": "Python 3"
    },
    "language_info": {
      "name": "python"
    },
    "widgets": {
      "application/vnd.jupyter.widget-state+json": {
        "6fdff1221cd04579975157e68dee19d7": {
          "model_module": "@jupyter-widgets/controls",
          "model_name": "VBoxModel",
          "model_module_version": "1.5.0",
          "state": {
            "_dom_classes": [],
            "_model_module": "@jupyter-widgets/controls",
            "_model_module_version": "1.5.0",
            "_model_name": "VBoxModel",
            "_view_count": null,
            "_view_module": "@jupyter-widgets/controls",
            "_view_module_version": "1.5.0",
            "_view_name": "VBoxView",
            "box_style": "",
            "children": [
              "IPY_MODEL_96ebf5e2c1a1435093d669963d366c75",
              "IPY_MODEL_650ba4ff4b0e4e6698a62c8fba2f8e3f",
              "IPY_MODEL_73946d67ee4143278c7af6b8f47e2d5a",
              "IPY_MODEL_316a0a890d5d4830a63b543bc1782403",
              "IPY_MODEL_9598affa0b33472a8502763de0016c9b"
            ],
            "layout": "IPY_MODEL_58ea56f9d16e45649ab375791be086f0"
          }
        },
        "96ebf5e2c1a1435093d669963d366c75": {
          "model_module": "@jupyter-widgets/controls",
          "model_name": "LabelModel",
          "model_module_version": "1.5.0",
          "state": {
            "_dom_classes": [],
            "_model_module": "@jupyter-widgets/controls",
            "_model_module_version": "1.5.0",
            "_model_name": "LabelModel",
            "_view_count": null,
            "_view_module": "@jupyter-widgets/controls",
            "_view_module_version": "1.5.0",
            "_view_name": "LabelView",
            "description": "",
            "description_tooltip": null,
            "layout": "IPY_MODEL_ed7fbd8df87b401e811e4d39aaae1a9f",
            "placeholder": "​",
            "style": "IPY_MODEL_2f68f6b559c04d89ad0c68022377f6ba",
            "value": "Select your bear!"
          }
        },
        "650ba4ff4b0e4e6698a62c8fba2f8e3f": {
          "model_module": "@jupyter-widgets/controls",
          "model_name": "FileUploadModel",
          "model_module_version": "1.5.0",
          "state": {
            "_counter": 3,
            "_dom_classes": [],
            "_model_module": "@jupyter-widgets/controls",
            "_model_module_version": "1.5.0",
            "_model_name": "FileUploadModel",
            "_view_count": null,
            "_view_module": "@jupyter-widgets/controls",
            "_view_module_version": "1.5.0",
            "_view_name": "FileUploadView",
            "accept": "",
            "button_style": "",
            "data": [
              null
            ],
            "description": "Upload",
            "description_tooltip": null,
            "disabled": false,
            "error": "",
            "icon": "upload",
            "layout": "IPY_MODEL_6177b7bf310d48a8b73b66b75db3e097",
            "metadata": [
              {
                "name": "mybear.jpeg",
                "type": "image/jpeg",
                "size": 4943,
                "lastModified": 1705775144000
              }
            ],
            "multiple": false,
            "style": "IPY_MODEL_46e1b48783064cf88c680216991cc1bb"
          }
        },
        "73946d67ee4143278c7af6b8f47e2d5a": {
          "model_module": "@jupyter-widgets/controls",
          "model_name": "ButtonModel",
          "model_module_version": "1.5.0",
          "state": {
            "_dom_classes": [],
            "_model_module": "@jupyter-widgets/controls",
            "_model_module_version": "1.5.0",
            "_model_name": "ButtonModel",
            "_view_count": null,
            "_view_module": "@jupyter-widgets/controls",
            "_view_module_version": "1.5.0",
            "_view_name": "ButtonView",
            "button_style": "",
            "description": "Classify",
            "disabled": false,
            "icon": "",
            "layout": "IPY_MODEL_4078853c16dd49a5866106f5a3fa9d07",
            "style": "IPY_MODEL_a3980a57e6c94134996f0b98c810c6b4",
            "tooltip": ""
          }
        },
        "316a0a890d5d4830a63b543bc1782403": {
          "model_module": "@jupyter-widgets/output",
          "model_name": "OutputModel",
          "model_module_version": "1.0.0",
          "state": {
            "_dom_classes": [],
            "_model_module": "@jupyter-widgets/output",
            "_model_module_version": "1.0.0",
            "_model_name": "OutputModel",
            "_view_count": null,
            "_view_module": "@jupyter-widgets/output",
            "_view_module_version": "1.0.0",
            "_view_name": "OutputView",
            "layout": "IPY_MODEL_2203520872c9467296fd9eca37c87ec1",
            "msg_id": "",
            "outputs": [
              {
                "output_type": "display_data",
                "data": {
                  "text/plain": "<PIL.Image.Image image mode=RGB size=128x128>",
                  "image/png": "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\n"
                },
                "metadata": {}
              }
            ]
          }
        },
        "9598affa0b33472a8502763de0016c9b": {
          "model_module": "@jupyter-widgets/controls",
          "model_name": "LabelModel",
          "model_module_version": "1.5.0",
          "state": {
            "_dom_classes": [],
            "_model_module": "@jupyter-widgets/controls",
            "_model_module_version": "1.5.0",
            "_model_name": "LabelModel",
            "_view_count": null,
            "_view_module": "@jupyter-widgets/controls",
            "_view_module_version": "1.5.0",
            "_view_name": "LabelView",
            "description": "",
            "description_tooltip": null,
            "layout": "IPY_MODEL_cee02435709547b18c89b141aedd5adc",
            "placeholder": "​",
            "style": "IPY_MODEL_bdfeb32555e24c00b095d3388f006b11",
            "value": "Prediction: teddy; Probability: 1.0000"
          }
        },
        "58ea56f9d16e45649ab375791be086f0": {
          "model_module": "@jupyter-widgets/base",
          "model_name": "LayoutModel",
          "model_module_version": "1.2.0",
          "state": {
            "_model_module": "@jupyter-widgets/base",
            "_model_module_version": "1.2.0",
            "_model_name": "LayoutModel",
            "_view_count": null,
            "_view_module": "@jupyter-widgets/base",
            "_view_module_version": "1.2.0",
            "_view_name": "LayoutView",
            "align_content": null,
            "align_items": null,
            "align_self": null,
            "border": null,
            "bottom": null,
            "display": null,
            "flex": null,
            "flex_flow": null,
            "grid_area": null,
            "grid_auto_columns": null,
            "grid_auto_flow": null,
            "grid_auto_rows": null,
            "grid_column": null,
            "grid_gap": null,
            "grid_row": null,
            "grid_template_areas": null,
            "grid_template_columns": null,
            "grid_template_rows": null,
            "height": null,
            "justify_content": null,
            "justify_items": null,
            "left": null,
            "margin": null,
            "max_height": null,
            "max_width": null,
            "min_height": null,
            "min_width": null,
            "object_fit": null,
            "object_position": null,
            "order": null,
            "overflow": null,
            "overflow_x": null,
            "overflow_y": null,
            "padding": null,
            "right": null,
            "top": null,
            "visibility": null,
            "width": null
          }
        },
        "ed7fbd8df87b401e811e4d39aaae1a9f": {
          "model_module": "@jupyter-widgets/base",
          "model_name": "LayoutModel",
          "model_module_version": "1.2.0",
          "state": {
            "_model_module": "@jupyter-widgets/base",
            "_model_module_version": "1.2.0",
            "_model_name": "LayoutModel",
            "_view_count": null,
            "_view_module": "@jupyter-widgets/base",
            "_view_module_version": "1.2.0",
            "_view_name": "LayoutView",
            "align_content": null,
            "align_items": null,
            "align_self": null,
            "border": null,
            "bottom": null,
            "display": null,
            "flex": null,
            "flex_flow": null,
            "grid_area": null,
            "grid_auto_columns": null,
            "grid_auto_flow": null,
            "grid_auto_rows": null,
            "grid_column": null,
            "grid_gap": null,
            "grid_row": null,
            "grid_template_areas": null,
            "grid_template_columns": null,
            "grid_template_rows": null,
            "height": null,
            "justify_content": null,
            "justify_items": null,
            "left": null,
            "margin": null,
            "max_height": null,
            "max_width": null,
            "min_height": null,
            "min_width": null,
            "object_fit": null,
            "object_position": null,
            "order": null,
            "overflow": null,
            "overflow_x": null,
            "overflow_y": null,
            "padding": null,
            "right": null,
            "top": null,
            "visibility": null,
            "width": null
          }
        },
        "2f68f6b559c04d89ad0c68022377f6ba": {
          "model_module": "@jupyter-widgets/controls",
          "model_name": "DescriptionStyleModel",
          "model_module_version": "1.5.0",
          "state": {
            "_model_module": "@jupyter-widgets/controls",
            "_model_module_version": "1.5.0",
            "_model_name": "DescriptionStyleModel",
            "_view_count": null,
            "_view_module": "@jupyter-widgets/base",
            "_view_module_version": "1.2.0",
            "_view_name": "StyleView",
            "description_width": ""
          }
        },
        "6177b7bf310d48a8b73b66b75db3e097": {
          "model_module": "@jupyter-widgets/base",
          "model_name": "LayoutModel",
          "model_module_version": "1.2.0",
          "state": {
            "_model_module": "@jupyter-widgets/base",
            "_model_module_version": "1.2.0",
            "_model_name": "LayoutModel",
            "_view_count": null,
            "_view_module": "@jupyter-widgets/base",
            "_view_module_version": "1.2.0",
            "_view_name": "LayoutView",
            "align_content": null,
            "align_items": null,
            "align_self": null,
            "border": null,
            "bottom": null,
            "display": null,
            "flex": null,
            "flex_flow": null,
            "grid_area": null,
            "grid_auto_columns": null,
            "grid_auto_flow": null,
            "grid_auto_rows": null,
            "grid_column": null,
            "grid_gap": null,
            "grid_row": null,
            "grid_template_areas": null,
            "grid_template_columns": null,
            "grid_template_rows": null,
            "height": null,
            "justify_content": null,
            "justify_items": null,
            "left": null,
            "margin": null,
            "max_height": null,
            "max_width": null,
            "min_height": null,
            "min_width": null,
            "object_fit": null,
            "object_position": null,
            "order": null,
            "overflow": null,
            "overflow_x": null,
            "overflow_y": null,
            "padding": null,
            "right": null,
            "top": null,
            "visibility": null,
            "width": null
          }
        },
        "46e1b48783064cf88c680216991cc1bb": {
          "model_module": "@jupyter-widgets/controls",
          "model_name": "ButtonStyleModel",
          "model_module_version": "1.5.0",
          "state": {
            "_model_module": "@jupyter-widgets/controls",
            "_model_module_version": "1.5.0",
            "_model_name": "ButtonStyleModel",
            "_view_count": null,
            "_view_module": "@jupyter-widgets/base",
            "_view_module_version": "1.2.0",
            "_view_name": "StyleView",
            "button_color": null,
            "font_weight": ""
          }
        },
        "4078853c16dd49a5866106f5a3fa9d07": {
          "model_module": "@jupyter-widgets/base",
          "model_name": "LayoutModel",
          "model_module_version": "1.2.0",
          "state": {
            "_model_module": "@jupyter-widgets/base",
            "_model_module_version": "1.2.0",
            "_model_name": "LayoutModel",
            "_view_count": null,
            "_view_module": "@jupyter-widgets/base",
            "_view_module_version": "1.2.0",
            "_view_name": "LayoutView",
            "align_content": null,
            "align_items": null,
            "align_self": null,
            "border": null,
            "bottom": null,
            "display": null,
            "flex": null,
            "flex_flow": null,
            "grid_area": null,
            "grid_auto_columns": null,
            "grid_auto_flow": null,
            "grid_auto_rows": null,
            "grid_column": null,
            "grid_gap": null,
            "grid_row": null,
            "grid_template_areas": null,
            "grid_template_columns": null,
            "grid_template_rows": null,
            "height": null,
            "justify_content": null,
            "justify_items": null,
            "left": null,
            "margin": null,
            "max_height": null,
            "max_width": null,
            "min_height": null,
            "min_width": null,
            "object_fit": null,
            "object_position": null,
            "order": null,
            "overflow": null,
            "overflow_x": null,
            "overflow_y": null,
            "padding": null,
            "right": null,
            "top": null,
            "visibility": null,
            "width": null
          }
        },
        "a3980a57e6c94134996f0b98c810c6b4": {
          "model_module": "@jupyter-widgets/controls",
          "model_name": "ButtonStyleModel",
          "model_module_version": "1.5.0",
          "state": {
            "_model_module": "@jupyter-widgets/controls",
            "_model_module_version": "1.5.0",
            "_model_name": "ButtonStyleModel",
            "_view_count": null,
            "_view_module": "@jupyter-widgets/base",
            "_view_module_version": "1.2.0",
            "_view_name": "StyleView",
            "button_color": null,
            "font_weight": ""
          }
        },
        "cee02435709547b18c89b141aedd5adc": {
          "model_module": "@jupyter-widgets/base",
          "model_name": "LayoutModel",
          "model_module_version": "1.2.0",
          "state": {
            "_model_module": "@jupyter-widgets/base",
            "_model_module_version": "1.2.0",
            "_model_name": "LayoutModel",
            "_view_count": null,
            "_view_module": "@jupyter-widgets/base",
            "_view_module_version": "1.2.0",
            "_view_name": "LayoutView",
            "align_content": null,
            "align_items": null,
            "align_self": null,
            "border": null,
            "bottom": null,
            "display": null,
            "flex": null,
            "flex_flow": null,
            "grid_area": null,
            "grid_auto_columns": null,
            "grid_auto_flow": null,
            "grid_auto_rows": null,
            "grid_column": null,
            "grid_gap": null,
            "grid_row": null,
            "grid_template_areas": null,
            "grid_template_columns": null,
            "grid_template_rows": null,
            "height": null,
            "justify_content": null,
            "justify_items": null,
            "left": null,
            "margin": null,
            "max_height": null,
            "max_width": null,
            "min_height": null,
            "min_width": null,
            "object_fit": null,
            "object_position": null,
            "order": null,
            "overflow": null,
            "overflow_x": null,
            "overflow_y": null,
            "padding": null,
            "right": null,
            "top": null,
            "visibility": null,
            "width": null
          }
        },
        "bdfeb32555e24c00b095d3388f006b11": {
          "model_module": "@jupyter-widgets/controls",
          "model_name": "DescriptionStyleModel",
          "model_module_version": "1.5.0",
          "state": {
            "_model_module": "@jupyter-widgets/controls",
            "_model_module_version": "1.5.0",
            "_model_name": "DescriptionStyleModel",
            "_view_count": null,
            "_view_module": "@jupyter-widgets/base",
            "_view_module_version": "1.2.0",
            "_view_name": "StyleView",
            "description_width": ""
          }
        },
        "2203520872c9467296fd9eca37c87ec1": {
          "model_module": "@jupyter-widgets/base",
          "model_name": "LayoutModel",
          "model_module_version": "1.2.0",
          "state": {
            "_model_module": "@jupyter-widgets/base",
            "_model_module_version": "1.2.0",
            "_model_name": "LayoutModel",
            "_view_count": null,
            "_view_module": "@jupyter-widgets/base",
            "_view_module_version": "1.2.0",
            "_view_name": "LayoutView",
            "align_content": null,
            "align_items": null,
            "align_self": null,
            "border": null,
            "bottom": null,
            "display": null,
            "flex": null,
            "flex_flow": null,
            "grid_area": null,
            "grid_auto_columns": null,
            "grid_auto_flow": null,
            "grid_auto_rows": null,
            "grid_column": null,
            "grid_gap": null,
            "grid_row": null,
            "grid_template_areas": null,
            "grid_template_columns": null,
            "grid_template_rows": null,
            "height": null,
            "justify_content": null,
            "justify_items": null,
            "left": null,
            "margin": null,
            "max_height": null,
            "max_width": null,
            "min_height": null,
            "min_width": null,
            "object_fit": null,
            "object_position": null,
            "order": null,
            "overflow": null,
            "overflow_x": null,
            "overflow_y": null,
            "padding": null,
            "right": null,
            "top": null,
            "visibility": null,
            "width": null
          }
        }
      }
    }
  },
  "cells": [
    {
      "cell_type": "markdown",
      "metadata": {
        "id": "view-in-github",
        "colab_type": "text"
      },
      "source": [
        "<a href=\"https://colab.research.google.com/github/kwenya/hello-world/blob/master/BearProduction.ipynb\" target=\"_parent\"><img src=\"https://colab.research.google.com/assets/colab-badge.svg\" alt=\"Open In Colab\"/></a>"
      ]
    },
    {
      "cell_type": "code",
      "execution_count": 1,
      "metadata": {
        "colab": {
          "base_uri": "https://localhost:8080/",
          "height": 1000
        },
        "id": "FRu4y2pAtd_w",
        "outputId": "63941f2c-b65e-4bad-9564-674949d6e8d0"
      },
      "outputs": [
        {
          "output_type": "stream",
          "name": "stdout",
          "text": [
            "Collecting voila\n",
            "  Downloading voila-0.5.5-py3-none-any.whl (3.9 MB)\n",
            "\u001b[2K     \u001b[90m━━━━━━━━━━━━━━━━━━━━━━━━━━━━━━━━━━━━━━━━\u001b[0m \u001b[32m3.9/3.9 MB\u001b[0m \u001b[31m11.1 MB/s\u001b[0m eta \u001b[36m0:00:00\u001b[0m\n",
            "\u001b[?25hCollecting jupyter-client<9,>=7.4.4 (from voila)\n",
            "  Downloading jupyter_client-8.6.0-py3-none-any.whl (105 kB)\n",
            "\u001b[2K     \u001b[90m━━━━━━━━━━━━━━━━━━━━━━━━━━━━━━━━━━━━━━━━\u001b[0m \u001b[32m105.9/105.9 kB\u001b[0m \u001b[31m10.8 MB/s\u001b[0m eta \u001b[36m0:00:00\u001b[0m\n",
            "\u001b[?25hRequirement already satisfied: jupyter-core>=4.11.0 in /usr/local/lib/python3.10/dist-packages (from voila) (5.7.1)\n",
            "Collecting jupyter-server<3,>=2.0.0 (from voila)\n",
            "  Downloading jupyter_server-2.12.5-py3-none-any.whl (380 kB)\n",
            "\u001b[2K     \u001b[90m━━━━━━━━━━━━━━━━━━━━━━━━━━━━━━━━━━━━━━━━\u001b[0m \u001b[32m380.3/380.3 kB\u001b[0m \u001b[31m16.2 MB/s\u001b[0m eta \u001b[36m0:00:00\u001b[0m\n",
            "\u001b[?25hCollecting jupyterlab-server<3,>=2.3.0 (from voila)\n",
            "  Downloading jupyterlab_server-2.25.2-py3-none-any.whl (58 kB)\n",
            "\u001b[2K     \u001b[90m━━━━━━━━━━━━━━━━━━━━━━━━━━━━━━━━━━━━━━━━\u001b[0m \u001b[32m58.9/58.9 kB\u001b[0m \u001b[31m6.4 MB/s\u001b[0m eta \u001b[36m0:00:00\u001b[0m\n",
            "\u001b[?25hCollecting nbclient<0.8,>=0.4.0 (from voila)\n",
            "  Downloading nbclient-0.7.4-py3-none-any.whl (73 kB)\n",
            "\u001b[2K     \u001b[90m━━━━━━━━━━━━━━━━━━━━━━━━━━━━━━━━━━━━━━━━\u001b[0m \u001b[32m73.1/73.1 kB\u001b[0m \u001b[31m6.4 MB/s\u001b[0m eta \u001b[36m0:00:00\u001b[0m\n",
            "\u001b[?25hRequirement already satisfied: nbconvert<8,>=6.4.5 in /usr/local/lib/python3.10/dist-packages (from voila) (6.5.4)\n",
            "Requirement already satisfied: traitlets<6,>=5.0.3 in /usr/local/lib/python3.10/dist-packages (from voila) (5.7.1)\n",
            "Collecting websockets>=9.0 (from voila)\n",
            "  Downloading websockets-12.0-cp310-cp310-manylinux_2_5_x86_64.manylinux1_x86_64.manylinux_2_17_x86_64.manylinux2014_x86_64.whl (130 kB)\n",
            "\u001b[2K     \u001b[90m━━━━━━━━━━━━━━━━━━━━━━━━━━━━━━━━━━━━━━━━\u001b[0m \u001b[32m130.2/130.2 kB\u001b[0m \u001b[31m7.2 MB/s\u001b[0m eta \u001b[36m0:00:00\u001b[0m\n",
            "\u001b[?25hRequirement already satisfied: python-dateutil>=2.8.2 in /usr/local/lib/python3.10/dist-packages (from jupyter-client<9,>=7.4.4->voila) (2.8.2)\n",
            "Requirement already satisfied: pyzmq>=23.0 in /usr/local/lib/python3.10/dist-packages (from jupyter-client<9,>=7.4.4->voila) (23.2.1)\n",
            "Requirement already satisfied: tornado>=6.2 in /usr/local/lib/python3.10/dist-packages (from jupyter-client<9,>=7.4.4->voila) (6.3.2)\n",
            "Requirement already satisfied: platformdirs>=2.5 in /usr/local/lib/python3.10/dist-packages (from jupyter-core>=4.11.0->voila) (4.1.0)\n",
            "Requirement already satisfied: anyio>=3.1.0 in /usr/local/lib/python3.10/dist-packages (from jupyter-server<3,>=2.0.0->voila) (3.7.1)\n",
            "Requirement already satisfied: argon2-cffi in /usr/local/lib/python3.10/dist-packages (from jupyter-server<3,>=2.0.0->voila) (23.1.0)\n",
            "Requirement already satisfied: jinja2 in /usr/local/lib/python3.10/dist-packages (from jupyter-server<3,>=2.0.0->voila) (3.1.3)\n",
            "Collecting jupyter-events>=0.9.0 (from jupyter-server<3,>=2.0.0->voila)\n",
            "  Downloading jupyter_events-0.9.0-py3-none-any.whl (18 kB)\n",
            "Collecting jupyter-server-terminals (from jupyter-server<3,>=2.0.0->voila)\n",
            "  Downloading jupyter_server_terminals-0.5.2-py3-none-any.whl (13 kB)\n",
            "Requirement already satisfied: nbformat>=5.3.0 in /usr/local/lib/python3.10/dist-packages (from jupyter-server<3,>=2.0.0->voila) (5.9.2)\n",
            "Collecting overrides (from jupyter-server<3,>=2.0.0->voila)\n",
            "  Downloading overrides-7.6.0-py3-none-any.whl (17 kB)\n",
            "Requirement already satisfied: packaging in /usr/local/lib/python3.10/dist-packages (from jupyter-server<3,>=2.0.0->voila) (23.2)\n",
            "Requirement already satisfied: prometheus-client in /usr/local/lib/python3.10/dist-packages (from jupyter-server<3,>=2.0.0->voila) (0.19.0)\n",
            "Collecting pyzmq>=23.0 (from jupyter-client<9,>=7.4.4->voila)\n",
            "  Downloading pyzmq-25.1.2-cp310-cp310-manylinux_2_28_x86_64.whl (1.1 MB)\n",
            "\u001b[2K     \u001b[90m━━━━━━━━━━━━━━━━━━━━━━━━━━━━━━━━━━━━━━━━\u001b[0m \u001b[32m1.1/1.1 MB\u001b[0m \u001b[31m7.3 MB/s\u001b[0m eta \u001b[36m0:00:00\u001b[0m\n",
            "\u001b[?25hRequirement already satisfied: send2trash>=1.8.2 in /usr/local/lib/python3.10/dist-packages (from jupyter-server<3,>=2.0.0->voila) (1.8.2)\n",
            "Requirement already satisfied: terminado>=0.8.3 in /usr/local/lib/python3.10/dist-packages (from jupyter-server<3,>=2.0.0->voila) (0.18.0)\n",
            "Requirement already satisfied: websocket-client in /usr/local/lib/python3.10/dist-packages (from jupyter-server<3,>=2.0.0->voila) (1.7.0)\n",
            "Requirement already satisfied: babel>=2.10 in /usr/local/lib/python3.10/dist-packages (from jupyterlab-server<3,>=2.3.0->voila) (2.14.0)\n",
            "Collecting json5>=0.9.0 (from jupyterlab-server<3,>=2.3.0->voila)\n",
            "  Downloading json5-0.9.14-py2.py3-none-any.whl (19 kB)\n",
            "Requirement already satisfied: jsonschema>=4.18.0 in /usr/local/lib/python3.10/dist-packages (from jupyterlab-server<3,>=2.3.0->voila) (4.19.2)\n",
            "Requirement already satisfied: requests>=2.31 in /usr/local/lib/python3.10/dist-packages (from jupyterlab-server<3,>=2.3.0->voila) (2.31.0)\n",
            "Requirement already satisfied: lxml in /usr/local/lib/python3.10/dist-packages (from nbconvert<8,>=6.4.5->voila) (4.9.4)\n",
            "Requirement already satisfied: beautifulsoup4 in /usr/local/lib/python3.10/dist-packages (from nbconvert<8,>=6.4.5->voila) (4.11.2)\n",
            "Requirement already satisfied: bleach in /usr/local/lib/python3.10/dist-packages (from nbconvert<8,>=6.4.5->voila) (6.1.0)\n",
            "Requirement already satisfied: defusedxml in /usr/local/lib/python3.10/dist-packages (from nbconvert<8,>=6.4.5->voila) (0.7.1)\n",
            "Requirement already satisfied: entrypoints>=0.2.2 in /usr/local/lib/python3.10/dist-packages (from nbconvert<8,>=6.4.5->voila) (0.4)\n",
            "Requirement already satisfied: jupyterlab-pygments in /usr/local/lib/python3.10/dist-packages (from nbconvert<8,>=6.4.5->voila) (0.3.0)\n",
            "Requirement already satisfied: MarkupSafe>=2.0 in /usr/local/lib/python3.10/dist-packages (from nbconvert<8,>=6.4.5->voila) (2.1.4)\n",
            "Requirement already satisfied: mistune<2,>=0.8.1 in /usr/local/lib/python3.10/dist-packages (from nbconvert<8,>=6.4.5->voila) (0.8.4)\n",
            "Requirement already satisfied: pandocfilters>=1.4.1 in /usr/local/lib/python3.10/dist-packages (from nbconvert<8,>=6.4.5->voila) (1.5.1)\n",
            "Requirement already satisfied: pygments>=2.4.1 in /usr/local/lib/python3.10/dist-packages (from nbconvert<8,>=6.4.5->voila) (2.16.1)\n",
            "Requirement already satisfied: tinycss2 in /usr/local/lib/python3.10/dist-packages (from nbconvert<8,>=6.4.5->voila) (1.2.1)\n",
            "Requirement already satisfied: idna>=2.8 in /usr/local/lib/python3.10/dist-packages (from anyio>=3.1.0->jupyter-server<3,>=2.0.0->voila) (3.6)\n",
            "Requirement already satisfied: sniffio>=1.1 in /usr/local/lib/python3.10/dist-packages (from anyio>=3.1.0->jupyter-server<3,>=2.0.0->voila) (1.3.0)\n",
            "Requirement already satisfied: exceptiongroup in /usr/local/lib/python3.10/dist-packages (from anyio>=3.1.0->jupyter-server<3,>=2.0.0->voila) (1.2.0)\n",
            "Requirement already satisfied: attrs>=22.2.0 in /usr/local/lib/python3.10/dist-packages (from jsonschema>=4.18.0->jupyterlab-server<3,>=2.3.0->voila) (23.2.0)\n",
            "Requirement already satisfied: jsonschema-specifications>=2023.03.6 in /usr/local/lib/python3.10/dist-packages (from jsonschema>=4.18.0->jupyterlab-server<3,>=2.3.0->voila) (2023.12.1)\n",
            "Requirement already satisfied: referencing>=0.28.4 in /usr/local/lib/python3.10/dist-packages (from jsonschema>=4.18.0->jupyterlab-server<3,>=2.3.0->voila) (0.32.1)\n",
            "Requirement already satisfied: rpds-py>=0.7.1 in /usr/local/lib/python3.10/dist-packages (from jsonschema>=4.18.0->jupyterlab-server<3,>=2.3.0->voila) (0.17.1)\n",
            "Collecting python-json-logger>=2.0.4 (from jupyter-events>=0.9.0->jupyter-server<3,>=2.0.0->voila)\n",
            "  Downloading python_json_logger-2.0.7-py3-none-any.whl (8.1 kB)\n",
            "Requirement already satisfied: pyyaml>=5.3 in /usr/local/lib/python3.10/dist-packages (from jupyter-events>=0.9.0->jupyter-server<3,>=2.0.0->voila) (6.0.1)\n",
            "Collecting rfc3339-validator (from jupyter-events>=0.9.0->jupyter-server<3,>=2.0.0->voila)\n",
            "  Downloading rfc3339_validator-0.1.4-py2.py3-none-any.whl (3.5 kB)\n",
            "Collecting rfc3986-validator>=0.1.1 (from jupyter-events>=0.9.0->jupyter-server<3,>=2.0.0->voila)\n",
            "  Downloading rfc3986_validator-0.1.1-py2.py3-none-any.whl (4.2 kB)\n",
            "Requirement already satisfied: fastjsonschema in /usr/local/lib/python3.10/dist-packages (from nbformat>=5.3.0->jupyter-server<3,>=2.0.0->voila) (2.19.1)\n",
            "Requirement already satisfied: six>=1.5 in /usr/local/lib/python3.10/dist-packages (from python-dateutil>=2.8.2->jupyter-client<9,>=7.4.4->voila) (1.16.0)\n",
            "Requirement already satisfied: charset-normalizer<4,>=2 in /usr/local/lib/python3.10/dist-packages (from requests>=2.31->jupyterlab-server<3,>=2.3.0->voila) (3.3.2)\n",
            "Requirement already satisfied: urllib3<3,>=1.21.1 in /usr/local/lib/python3.10/dist-packages (from requests>=2.31->jupyterlab-server<3,>=2.3.0->voila) (2.0.7)\n",
            "Requirement already satisfied: certifi>=2017.4.17 in /usr/local/lib/python3.10/dist-packages (from requests>=2.31->jupyterlab-server<3,>=2.3.0->voila) (2023.11.17)\n",
            "Requirement already satisfied: ptyprocess in /usr/local/lib/python3.10/dist-packages (from terminado>=0.8.3->jupyter-server<3,>=2.0.0->voila) (0.7.0)\n",
            "Requirement already satisfied: argon2-cffi-bindings in /usr/local/lib/python3.10/dist-packages (from argon2-cffi->jupyter-server<3,>=2.0.0->voila) (21.2.0)\n",
            "Requirement already satisfied: soupsieve>1.2 in /usr/local/lib/python3.10/dist-packages (from beautifulsoup4->nbconvert<8,>=6.4.5->voila) (2.5)\n",
            "Requirement already satisfied: webencodings in /usr/local/lib/python3.10/dist-packages (from bleach->nbconvert<8,>=6.4.5->voila) (0.5.1)\n",
            "Collecting fqdn (from jsonschema>=4.18.0->jupyterlab-server<3,>=2.3.0->voila)\n",
            "  Downloading fqdn-1.5.1-py3-none-any.whl (9.1 kB)\n",
            "Collecting isoduration (from jsonschema>=4.18.0->jupyterlab-server<3,>=2.3.0->voila)\n",
            "  Downloading isoduration-20.11.0-py3-none-any.whl (11 kB)\n",
            "Collecting jsonpointer>1.13 (from jsonschema>=4.18.0->jupyterlab-server<3,>=2.3.0->voila)\n",
            "  Downloading jsonpointer-2.4-py2.py3-none-any.whl (7.8 kB)\n",
            "Collecting uri-template (from jsonschema>=4.18.0->jupyterlab-server<3,>=2.3.0->voila)\n",
            "  Downloading uri_template-1.3.0-py3-none-any.whl (11 kB)\n",
            "Requirement already satisfied: webcolors>=1.11 in /usr/local/lib/python3.10/dist-packages (from jsonschema>=4.18.0->jupyterlab-server<3,>=2.3.0->voila) (1.13)\n",
            "Requirement already satisfied: cffi>=1.0.1 in /usr/local/lib/python3.10/dist-packages (from argon2-cffi-bindings->argon2-cffi->jupyter-server<3,>=2.0.0->voila) (1.16.0)\n",
            "Requirement already satisfied: pycparser in /usr/local/lib/python3.10/dist-packages (from cffi>=1.0.1->argon2-cffi-bindings->argon2-cffi->jupyter-server<3,>=2.0.0->voila) (2.21)\n",
            "Collecting arrow>=0.15.0 (from isoduration->jsonschema>=4.18.0->jupyterlab-server<3,>=2.3.0->voila)\n",
            "  Downloading arrow-1.3.0-py3-none-any.whl (66 kB)\n",
            "\u001b[2K     \u001b[90m━━━━━━━━━━━━━━━━━━━━━━━━━━━━━━━━━━━━━━━━\u001b[0m \u001b[32m66.4/66.4 kB\u001b[0m \u001b[31m7.6 MB/s\u001b[0m eta \u001b[36m0:00:00\u001b[0m\n",
            "\u001b[?25hCollecting types-python-dateutil>=2.8.10 (from arrow>=0.15.0->isoduration->jsonschema>=4.18.0->jupyterlab-server<3,>=2.3.0->voila)\n",
            "  Downloading types_python_dateutil-2.8.19.20240106-py3-none-any.whl (9.7 kB)\n",
            "Installing collected packages: json5, websockets, uri-template, types-python-dateutil, rfc3986-validator, rfc3339-validator, pyzmq, python-json-logger, overrides, jsonpointer, fqdn, jupyter-server-terminals, jupyter-client, arrow, isoduration, nbclient, jupyter-events, jupyter-server, jupyterlab-server, voila\n",
            "  Attempting uninstall: pyzmq\n",
            "    Found existing installation: pyzmq 23.2.1\n",
            "    Uninstalling pyzmq-23.2.1:\n",
            "      Successfully uninstalled pyzmq-23.2.1\n",
            "  Attempting uninstall: jupyter-client\n",
            "    Found existing installation: jupyter-client 6.1.12\n",
            "    Uninstalling jupyter-client-6.1.12:\n",
            "      Successfully uninstalled jupyter-client-6.1.12\n",
            "  Attempting uninstall: nbclient\n",
            "    Found existing installation: nbclient 0.9.0\n",
            "    Uninstalling nbclient-0.9.0:\n",
            "      Successfully uninstalled nbclient-0.9.0\n",
            "  Attempting uninstall: jupyter-server\n",
            "    Found existing installation: jupyter-server 1.24.0\n",
            "    Uninstalling jupyter-server-1.24.0:\n",
            "      Successfully uninstalled jupyter-server-1.24.0\n",
            "\u001b[31mERROR: pip's dependency resolver does not currently take into account all the packages that are installed. This behaviour is the source of the following dependency conflicts.\n",
            "notebook 6.5.5 requires jupyter-client<8,>=5.3.4, but you have jupyter-client 8.6.0 which is incompatible.\n",
            "notebook 6.5.5 requires pyzmq<25,>=17, but you have pyzmq 25.1.2 which is incompatible.\u001b[0m\u001b[31m\n",
            "\u001b[0mSuccessfully installed arrow-1.3.0 fqdn-1.5.1 isoduration-20.11.0 json5-0.9.14 jsonpointer-2.4 jupyter-client-8.6.0 jupyter-events-0.9.0 jupyter-server-2.12.5 jupyter-server-terminals-0.5.2 jupyterlab-server-2.25.2 nbclient-0.7.4 overrides-7.6.0 python-json-logger-2.0.7 pyzmq-25.1.2 rfc3339-validator-0.1.4 rfc3986-validator-0.1.1 types-python-dateutil-2.8.19.20240106 uri-template-1.3.0 voila-0.5.5 websockets-12.0\n"
          ]
        },
        {
          "output_type": "display_data",
          "data": {
            "application/vnd.colab-display-data+json": {
              "pip_warning": {
                "packages": [
                  "zmq"
                ]
              }
            }
          },
          "metadata": {}
        },
        {
          "output_type": "stream",
          "name": "stdout",
          "text": [
            "Enabling: voila\n",
            "- Writing config: /usr/etc/jupyter\n",
            "    - Validating...\n",
            "      voila 0.5.5 \u001b[32mOK\u001b[0m\n"
          ]
        }
      ],
      "source": [
        "!pip install voila\n",
        "!jupyter serverextension enable --sys-prefix voila"
      ]
    },
    {
      "cell_type": "code",
      "source": [],
      "metadata": {
        "id": "3kQBZMSMt78_"
      },
      "execution_count": null,
      "outputs": []
    },
    {
      "cell_type": "markdown",
      "source": [
        "# **Bear Classifier**\n",
        "\n",
        "---\n",
        "\n",
        "🐻\n",
        "\n",
        "This app allows you to upload a bear picture and the will classify the picture as a Teddy Bear, Black Bear or Grizzly Bear.\n",
        "\n",
        "\n",
        "\n",
        "---\n",
        "\n"
      ],
      "metadata": {
        "id": "l6CHvHDhOjcV"
      }
    },
    {
      "cell_type": "code",
      "source": [
        "! [ -e /content ] && pip install -Uqq fastbook\n",
        "import fastbook\n",
        "fastbook.setup_book()"
      ],
      "metadata": {
        "colab": {
          "base_uri": "https://localhost:8080/"
        },
        "id": "eWJBEz53X7rO",
        "outputId": "383b807b-f3c7-4cae-eba2-20c59f905b04"
      },
      "execution_count": 5,
      "outputs": [
        {
          "output_type": "stream",
          "name": "stdout",
          "text": [
            "\u001b[2K     \u001b[90m━━━━━━━━━━━━━━━━━━━━━━━━━━━━━━━━━━━━━━━━\u001b[0m \u001b[32m719.8/719.8 kB\u001b[0m \u001b[31m6.7 MB/s\u001b[0m eta \u001b[36m0:00:00\u001b[0m\n",
            "\u001b[2K     \u001b[90m━━━━━━━━━━━━━━━━━━━━━━━━━━━━━━━━━━━━━━━━\u001b[0m \u001b[32m507.1/507.1 kB\u001b[0m \u001b[31m11.2 MB/s\u001b[0m eta \u001b[36m0:00:00\u001b[0m\n",
            "\u001b[2K     \u001b[90m━━━━━━━━━━━━━━━━━━━━━━━━━━━━━━━━━━━━━━━━\u001b[0m \u001b[32m1.3/1.3 MB\u001b[0m \u001b[31m15.8 MB/s\u001b[0m eta \u001b[36m0:00:00\u001b[0m\n",
            "\u001b[2K     \u001b[90m━━━━━━━━━━━━━━━━━━━━━━━━━━━━━━━━━━━━━━━━\u001b[0m \u001b[32m115.3/115.3 kB\u001b[0m \u001b[31m15.7 MB/s\u001b[0m eta \u001b[36m0:00:00\u001b[0m\n",
            "\u001b[2K     \u001b[90m━━━━━━━━━━━━━━━━━━━━━━━━━━━━━━━━━━━━━━━━\u001b[0m \u001b[32m134.8/134.8 kB\u001b[0m \u001b[31m18.9 MB/s\u001b[0m eta \u001b[36m0:00:00\u001b[0m\n",
            "\u001b[2K     \u001b[90m━━━━━━━━━━━━━━━━━━━━━━━━━━━━━━━━━━━━━━━━\u001b[0m \u001b[32m1.6/1.6 MB\u001b[0m \u001b[31m20.1 MB/s\u001b[0m eta \u001b[36m0:00:00\u001b[0m\n",
            "\u001b[2K     \u001b[90m━━━━━━━━━━━━━━━━━━━━━━━━━━━━━━━━━━━━━━━━\u001b[0m \u001b[32m1.1/1.1 MB\u001b[0m \u001b[31m29.0 MB/s\u001b[0m eta \u001b[36m0:00:00\u001b[0m\n",
            "\u001b[2K     \u001b[90m━━━━━━━━━━━━━━━━━━━━━━━━━━━━━━━━━━━━━━━━\u001b[0m \u001b[32m133.5/133.5 kB\u001b[0m \u001b[31m18.0 MB/s\u001b[0m eta \u001b[36m0:00:00\u001b[0m\n",
            "\u001b[?25hMounted at /content/gdrive\n"
          ]
        }
      ]
    },
    {
      "cell_type": "code",
      "source": [
        "from fastbook import *\n",
        "from fastai.vision.widgets import *"
      ],
      "metadata": {
        "id": "oNVUGRjNZEyF"
      },
      "execution_count": 6,
      "outputs": []
    },
    {
      "cell_type": "code",
      "source": [
        "import ipywidgets as widgets\n",
        "btn_upload = widgets.FileUpload()\n"
      ],
      "metadata": {
        "id": "1X3lIOS_P4h8"
      },
      "execution_count": 2,
      "outputs": []
    },
    {
      "cell_type": "code",
      "source": [
        "out_pl = widgets.Output()"
      ],
      "metadata": {
        "id": "x7uMk_pIfV9F"
      },
      "execution_count": 12,
      "outputs": []
    },
    {
      "cell_type": "code",
      "source": [
        "lbl_pred = widgets.Label()"
      ],
      "metadata": {
        "id": "LLleEcL1iQxq"
      },
      "execution_count": 13,
      "outputs": []
    },
    {
      "cell_type": "code",
      "source": [
        "path = Path()\n",
        "path.ls(file_exts='.pkl')"
      ],
      "metadata": {
        "colab": {
          "base_uri": "https://localhost:8080/"
        },
        "id": "xYBIjJZ-Rqpt",
        "outputId": "6b421d05-f95e-44ee-e31f-c9c95a8d4964"
      },
      "execution_count": 8,
      "outputs": [
        {
          "output_type": "execute_result",
          "data": {
            "text/plain": [
              "(#1) [Path('export.pkl')]"
            ]
          },
          "metadata": {},
          "execution_count": 8
        }
      ]
    },
    {
      "cell_type": "code",
      "source": [
        "learn_inf = load_learner(path/'export.pkl')"
      ],
      "metadata": {
        "id": "4cX4n0J2cNEJ"
      },
      "execution_count": 10,
      "outputs": []
    },
    {
      "cell_type": "code",
      "source": [
        "learn_inf.dls.vocab"
      ],
      "metadata": {
        "colab": {
          "base_uri": "https://localhost:8080/"
        },
        "id": "Tqz14K7hdoy8",
        "outputId": "e332a980-e859-4bca-c310-b63892f8a567"
      },
      "execution_count": 11,
      "outputs": [
        {
          "output_type": "execute_result",
          "data": {
            "text/plain": [
              "['black', 'grizzly', 'teddy']"
            ]
          },
          "metadata": {},
          "execution_count": 11
        }
      ]
    },
    {
      "cell_type": "code",
      "source": [
        "def on_click_classify(change):\n",
        "    img = PILImage.create(btn_upload.data[-1])\n",
        "    out_pl.clear_output()\n",
        "    with out_pl: display(img.to_thumb(128,128))\n",
        "    pred,pred_idx,probs = learn_inf.predict(img)\n",
        "    lbl_pred.value = f'Prediction: {pred}; Probability: {probs[pred_idx]:.04f}'"
      ],
      "metadata": {
        "id": "J2VeO_kcRCSY"
      },
      "execution_count": 14,
      "outputs": []
    },
    {
      "cell_type": "code",
      "source": [
        "btn_run = widgets.Button(description='Classify')\n",
        "btn_run.on_click(on_click_classify)"
      ],
      "metadata": {
        "id": "BwkvuBq7Rha2"
      },
      "execution_count": 16,
      "outputs": []
    },
    {
      "cell_type": "code",
      "source": [
        "btn_upload = widgets.FileUpload()"
      ],
      "metadata": {
        "id": "9_dge0gbjUVV"
      },
      "execution_count": 17,
      "outputs": []
    },
    {
      "cell_type": "code",
      "source": [
        "VBox([widgets.Label('Select your bear!'),\n",
        "      btn_upload, btn_run, out_pl, lbl_pred])"
      ],
      "metadata": {
        "colab": {
          "base_uri": "https://localhost:8080/",
          "height": 328,
          "referenced_widgets": [
            "6fdff1221cd04579975157e68dee19d7",
            "96ebf5e2c1a1435093d669963d366c75",
            "650ba4ff4b0e4e6698a62c8fba2f8e3f",
            "73946d67ee4143278c7af6b8f47e2d5a",
            "316a0a890d5d4830a63b543bc1782403",
            "9598affa0b33472a8502763de0016c9b",
            "58ea56f9d16e45649ab375791be086f0",
            "ed7fbd8df87b401e811e4d39aaae1a9f",
            "2f68f6b559c04d89ad0c68022377f6ba",
            "6177b7bf310d48a8b73b66b75db3e097",
            "46e1b48783064cf88c680216991cc1bb",
            "4078853c16dd49a5866106f5a3fa9d07",
            "a3980a57e6c94134996f0b98c810c6b4",
            "cee02435709547b18c89b141aedd5adc",
            "bdfeb32555e24c00b095d3388f006b11",
            "2203520872c9467296fd9eca37c87ec1"
          ]
        },
        "id": "jIkX6erSjm9l",
        "outputId": "7d18356f-a945-4cab-d4d7-f5e30909815c"
      },
      "execution_count": 18,
      "outputs": [
        {
          "output_type": "display_data",
          "data": {
            "text/plain": [
              "VBox(children=(Label(value='Select your bear!'), FileUpload(value={}, description='Upload'), Button(descriptio…"
            ],
            "application/vnd.jupyter.widget-view+json": {
              "version_major": 2,
              "version_minor": 0,
              "model_id": "6fdff1221cd04579975157e68dee19d7"
            }
          },
          "metadata": {}
        },
        {
          "output_type": "stream",
          "name": "stderr",
          "text": [
            "/usr/local/lib/python3.10/dist-packages/fastai/torch_core.py:263: UserWarning: 'has_mps' is deprecated, please use 'torch.backends.mps.is_built()'\n",
            "  return getattr(torch, 'has_mps', False)\n"
          ]
        },
        {
          "output_type": "display_data",
          "data": {
            "text/plain": [
              "<IPython.core.display.HTML object>"
            ],
            "text/html": [
              "\n",
              "<style>\n",
              "    /* Turns off some styling */\n",
              "    progress {\n",
              "        /* gets rid of default border in Firefox and Opera. */\n",
              "        border: none;\n",
              "        /* Needs to be in here for Safari polyfill so background images work as expected. */\n",
              "        background-size: auto;\n",
              "    }\n",
              "    progress:not([value]), progress:not([value])::-webkit-progress-bar {\n",
              "        background: repeating-linear-gradient(45deg, #7e7e7e, #7e7e7e 10px, #5c5c5c 10px, #5c5c5c 20px);\n",
              "    }\n",
              "    .progress-bar-interrupted, .progress-bar-interrupted::-webkit-progress-bar {\n",
              "        background: #F44336;\n",
              "    }\n",
              "</style>\n"
            ]
          },
          "metadata": {}
        },
        {
          "output_type": "display_data",
          "data": {
            "text/plain": [
              "<IPython.core.display.HTML object>"
            ],
            "text/html": []
          },
          "metadata": {}
        },
        {
          "output_type": "display_data",
          "data": {
            "text/plain": [
              "<IPython.core.display.HTML object>"
            ],
            "text/html": [
              "\n",
              "<style>\n",
              "    /* Turns off some styling */\n",
              "    progress {\n",
              "        /* gets rid of default border in Firefox and Opera. */\n",
              "        border: none;\n",
              "        /* Needs to be in here for Safari polyfill so background images work as expected. */\n",
              "        background-size: auto;\n",
              "    }\n",
              "    progress:not([value]), progress:not([value])::-webkit-progress-bar {\n",
              "        background: repeating-linear-gradient(45deg, #7e7e7e, #7e7e7e 10px, #5c5c5c 10px, #5c5c5c 20px);\n",
              "    }\n",
              "    .progress-bar-interrupted, .progress-bar-interrupted::-webkit-progress-bar {\n",
              "        background: #F44336;\n",
              "    }\n",
              "</style>\n"
            ]
          },
          "metadata": {}
        },
        {
          "output_type": "display_data",
          "data": {
            "text/plain": [
              "<IPython.core.display.HTML object>"
            ],
            "text/html": []
          },
          "metadata": {}
        },
        {
          "output_type": "display_data",
          "data": {
            "text/plain": [
              "<IPython.core.display.HTML object>"
            ],
            "text/html": [
              "\n",
              "<style>\n",
              "    /* Turns off some styling */\n",
              "    progress {\n",
              "        /* gets rid of default border in Firefox and Opera. */\n",
              "        border: none;\n",
              "        /* Needs to be in here for Safari polyfill so background images work as expected. */\n",
              "        background-size: auto;\n",
              "    }\n",
              "    progress:not([value]), progress:not([value])::-webkit-progress-bar {\n",
              "        background: repeating-linear-gradient(45deg, #7e7e7e, #7e7e7e 10px, #5c5c5c 10px, #5c5c5c 20px);\n",
              "    }\n",
              "    .progress-bar-interrupted, .progress-bar-interrupted::-webkit-progress-bar {\n",
              "        background: #F44336;\n",
              "    }\n",
              "</style>\n"
            ]
          },
          "metadata": {}
        },
        {
          "output_type": "display_data",
          "data": {
            "text/plain": [
              "<IPython.core.display.HTML object>"
            ],
            "text/html": []
          },
          "metadata": {}
        }
      ]
    }
  ]
}